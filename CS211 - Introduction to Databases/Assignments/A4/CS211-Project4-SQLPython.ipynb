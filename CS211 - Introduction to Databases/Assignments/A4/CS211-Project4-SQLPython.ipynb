{
 "cells": [
  {
   "cell_type": "markdown",
   "metadata": {},
   "source": [
    "# CS211 Project 4- SQL in Python"
   ]
  },
  {
   "cell_type": "markdown",
   "metadata": {},
   "source": [
    "## Topics covered"
   ]
  },
  {
   "cell_type": "markdown",
   "metadata": {},
   "source": [
    "Access mariaDB via Python, Data Transfer, Cross/Pivot table, Dynamic SQL"
   ]
  },
  {
   "cell_type": "markdown",
   "metadata": {},
   "source": [
    "## Objectives"
   ]
  },
  {
   "cell_type": "raw",
   "metadata": {},
   "source": [
    "1. Develop familiarity with general process of database access from an application.<br>\n",
    "2. Get skill in accessing mariadDBusing Python.<br>\n",
    "3. Develop intuition about data transfering from one database to another.<br>\n",
    "4. Develop intuition about rearranging a table into Cross/Pivot table using Dynamic SQL in application"
   ]
  },
  {
   "cell_type": "markdown",
   "metadata": {},
   "source": [
    "## Deliverables"
   ]
  },
  {
   "cell_type": "markdown",
   "metadata": {},
   "source": [
    "Your submission for this assignment is the completed ipynb file: CS211-Project4-SQLPython-youruid.ipynb <br>\n",
    "To complete this file, you should follow instructions in Section Tasks."
   ]
  },
  {
   "cell_type": "markdown",
   "metadata": {},
   "source": [
    "## Overview"
   ]
  },
  {
   "cell_type": "markdown",
   "metadata": {},
   "source": [
    "### Dynamic SQL"
   ]
  },
  {
   "cell_type": "markdown",
   "metadata": {},
   "source": [
    "SQL provides a powerful declarative query language. Writing queries in SQL is usually much easier than coding the same queries in a general-purpose programming language. However, a database programmer must have access to a general-purpose programming language for at least two reasons: <br>\n",
    "1. Not all queries can be expressed in SQL, since SQL does not provide the full expressive power of a general-purpose language. <br>\n",
    "2. Nondeclarative actions—such as printing a report, interacting with a user, or sending the results of a query to a graphical user interface—cannot be done from within SQL.\n",
    "\n",
    "There are two approaches to accessing SQL from a general-purpose programming language: **Dynamic SQL** and **Embedded SQL**. In this assignment we're going to prictice the former by using Python"
   ]
  },
  {
   "cell_type": "markdown",
   "metadata": {},
   "source": [
    "### Cross/Pivot Table"
   ]
  },
  {
   "cell_type": "markdown",
   "metadata": {},
   "source": [
    "A cross table is a two-way table consisting of columns and rows. It is also known as a **pivot** table or a multi-dimensional table. Its greatest strength is its ability to structure, summarize, and display large amounts of data. An example is as following: <br>\n",
    "Let's say we have a regular Fruit and Vegetable table that looks like this: <br>\n",
    "\n",
    "| Month | Category | Product | Sales | Cost |\n",
    "| --- | --- | --- | --- | --- |\n",
    "| Jan | Fruit | Apple | 120 | 3 |\n",
    "| Feb | Fruit | Apple | 200 | 4 |\n",
    "| Jan | Fruit | Pear | 120 | 2 |\n",
    "| Feb | Fruit | Pear | 200 | 2.5 |\n",
    "| Jan | Vegetable | Cucumber | 80 | 1 |\n",
    "| Feb | Vegetable | Cucumber | 82 | 1 |\n",
    "| Jan | Vegetable | Tomato | 100 | 1.5 |\n",
    "| Feb | Vegetable | Tomato | 90 | 1.5 |\n",
    "\n",
    "Below is its cross/pivot table showing sales figures for different types of fruits and vegetables:\n",
    "\n",
    "| Category | Product | Jan | Feb | Mar | Apr | May | Jun | Jul | Aug | Sep | Oct | Nov | Dec | Grand Total |\n",
    "| --- | --- | --- | --- | --- | --- | --- | --- | --- | --- | --- | --- | --- | --- | --- |\n",
    "| Fruit | Apple | 360 | 800 | Null | Null | Null | Null | Null | Null | Null | Null | Null | Null | 1160 |\n",
    "| Fruit | Pear | 240 | 500 | Null | Null | Null | Null | Null | Null | Null | Null | Null | Null | 740 |\n",
    "| Vegetable | Cucumber | 80 | 82 | Null | Null | Null | Null | Null | Null | Null | Null | Null | Null | 162 |\n",
    "| Vegetable | Tomato | 150 | 135 | Null | Null | Null | Null | Null | Null | Null | Null | Null | Null | 285 |\n",
    "\n",
    "There are many ways to generate a cross table, in this assignment, we're to use out-sql(i.e. in application) method. In Python, read regular Fruit and Vegetable data from source database, and to generate a cross table and transfer it into a target database."
   ]
  },
  {
   "cell_type": "markdown",
   "metadata": {},
   "source": [
    "## Tasks"
   ]
  },
  {
   "cell_type": "markdown",
   "metadata": {},
   "source": [
    "### 1 - Preparation"
   ]
  },
  {
   "cell_type": "markdown",
   "metadata": {},
   "source": [
    "#### Setup databases"
   ]
  },
  {
   "cell_type": "markdown",
   "metadata": {},
   "source": [
    "Login mariaDB, in the MySQL Client(MariaDB ##.#) window, issue the command below <br>\n",
    "\n",
    "MariaDB[None]>source c:\\database\\Fruit-Veg.sql <br>\n",
    "\n",
    "(Change the directory if necessary)\n",
    "\n",
    "After the commands in sql file being successfully executed, two databases **FruitVegSrc** and **FruitVegDes** are created. Each contains one table, **sales** in database FruitVegSrc with tuples, and an empty table **salesCross** in database FruitDes.  "
   ]
  },
  {
   "cell_type": "markdown",
   "metadata": {},
   "source": [
    "#### Start database server"
   ]
  },
  {
   "cell_type": "markdown",
   "metadata": {},
   "source": [
    "Skip this step if the MySQL Client is running (it implies that the server has been started). <br>\n",
    "\n",
    "Run mysqld.exe in windows command prompt. The executable file is in the folder *...\\MariaDB ##.#\\bin\\*."
   ]
  },
  {
   "cell_type": "markdown",
   "metadata": {},
   "source": [
    "### 2 - Connect to the two databases (15 points)"
   ]
  },
  {
   "cell_type": "code",
   "execution_count": 19,
   "metadata": {},
   "outputs": [],
   "source": [
    "import mariadb"
   ]
  },
  {
   "cell_type": "code",
   "execution_count": 20,
   "metadata": {},
   "outputs": [],
   "source": [
    "# Connect Python to databases FruitVegSrc and FruitVegDes respectively\n",
    "\n",
    "# Your code goes here (10 points)\n",
    "\n",
    "# Start Maria DB server before the connection by running the command below\n",
    "# mysqld.exe (in windows command prompt)\n",
    "\n",
    "conn = mariadb.connect(\n",
    "        user=\"root\",            # use your uid\n",
    "        password=\"25Y09r97\",    # use your password\n",
    "        host=\"127.0.0.1\",       # localhost\n",
    "        port=3306,              # default port used by MariaDB\n",
    "        database=\"FruitVegSrc\" )\n",
    "\n",
    "conn = mariadb.connect(\n",
    "        user=\"root\",            # use your uid\n",
    "        password=\"25Y09r97\",    # use your password\n",
    "        host=\"127.0.0.1\",       # localhost\n",
    "        port=3306,              # default port used by MariaDB\n",
    "        database=\"FruitVegDes\" )"
   ]
  },
  {
   "cell_type": "markdown",
   "metadata": {},
   "source": [
    "Validate your connections by issuing the following queries and print out the results. <br>\n",
    "Cursors should be obtained from the connections. <br>\n",
    "\n",
    "1. select count(*) from sales; (in FruitVegSrc database) <br>\n",
    "2. select count(*) from salesCross; (in FruitVegDes database) <br>"
   ]
  },
  {
   "cell_type": "code",
   "execution_count": 21,
   "metadata": {},
   "outputs": [
    {
     "name": "stdout",
     "output_type": "stream",
     "text": [
      "(53,)\n",
      "(0,)\n"
     ]
    }
   ],
   "source": [
    "# Two sql statements\n",
    "\n",
    "# Your code goest here (5 points)\n",
    "\n",
    "# Get Cursor\n",
    "cur = conn.cursor()\n",
    "\n",
    "# select count(*) from sales; (in FruitVegSrc database)\n",
    "cur.execute(\"use FruitVegSrc\")\n",
    "cur.execute (\"select count(*) from sales\")\n",
    "for t in cur:\n",
    "    print(t)\n",
    "    \n",
    "# select count(*) from salesCross; (in FruitVegDes database)\n",
    "cur.execute(\"use FruitVegDes\")\n",
    "cur.execute (\"select count(*) from salesCross\")\n",
    "for t in cur:\n",
    "    print(t)"
   ]
  },
  {
   "cell_type": "markdown",
   "metadata": {},
   "source": [
    "### 3 - Generate tuples for Cross table (30 points)"
   ]
  },
  {
   "cell_type": "code",
   "execution_count": 22,
   "metadata": {},
   "outputs": [],
   "source": [
    "# If you have your own algorithm to compolete this task, put YOUR CODE for the task in this CELL \n",
    "# Otherewise, complete the following cells.\n",
    "\n",
    "# Your code goes here (30 points)\n"
   ]
  },
  {
   "cell_type": "code",
   "execution_count": 23,
   "metadata": {},
   "outputs": [],
   "source": [
    "# Get the list of products (together with their categories)\n",
    "# Save the returned result into a list variable products by using cursor.fetchall() \n",
    "# Your code goes here (5 points)\n",
    "\n",
    "cur = conn.cursor(named_tuple = True)\n",
    "cur.execute(\"use FruitVegSrc\")\n",
    "cur.execute(\"Select DISTINCT product, category from Sales\")\n",
    "products = cur.fetchall();\n"
   ]
  },
  {
   "cell_type": "code",
   "execution_count": 24,
   "metadata": {},
   "outputs": [],
   "source": [
    "# Clear the destination table - remove all tuples in the cross table\n",
    "\n",
    "# Your code goes here (5 points)\n",
    "cur.execute(\"Use FruitVegDes\")\n",
    "cur.execute(\"delete from salescross\")\n"
   ]
  },
  {
   "cell_type": "code",
   "execution_count": 25,
   "metadata": {},
   "outputs": [],
   "source": [
    "# create a list of 12 months value\n",
    "months = [\"Jan\", \"Feb\", \"Mar\", \"Apr\", \"May\", \"Jun\", \"Jul\", \"Aug\", \"Sep\", \"Oct\", \"Nov\", \"Dec\"]"
   ]
  },
  {
   "cell_type": "code",
   "execution_count": 26,
   "metadata": {},
   "outputs": [],
   "source": [
    "# Generate Dynamic SQL\n",
    "# Get values from table sales and combine an insert multiple tuples statement into cross table\n",
    "# Example of insert multiple rowos into a table\n",
    "#              insert into table_name(column_list) values\n",
    "#                                                  (value_list_1),\n",
    "#                                                  (value_list_2),\n",
    "#                                                  (value_list_3),\n",
    "#                                                                   ...;\n",
    "\n",
    "insertmany = \"INSERT INTO salesCross VALUES \"\n",
    "\n",
    "for product in products:\n",
    "    \n",
    "    # generate the value list for each product, i.e (category, product, val1,..., val12, grand_total)\n",
    "    # and append the valuelist into insertmany    \n",
    "    \n",
    "    # Your code goes here (15 points)\n",
    "    insertmany += \"('\" + product.category + \"', '\" + product.product + \"', \"\n",
    "    \n",
    "    grandTotal = 0;\n",
    "    \n",
    "    for i in range(len(months)):\n",
    "        cur.execute(\"Use FruitVegSrc\")\n",
    "        select = \"Select Sales, Cost from sales where Product = \" + \"'\" + product.product + \"'\" + \"and Mon =\" + \"'\" + months[i] + \"'\"\n",
    "        \n",
    "        cur.execute(select)\n",
    "        result = cur.fetchall();\n",
    "        \n",
    "        totalSales = 0;\n",
    "        \n",
    "        for k in result:\n",
    "            totalSales += k.Sales * k.Cost\n",
    "            \n",
    "        insertmany += str(totalSales) + \", \" \n",
    "        grandTotal += totalSales \n",
    "            \n",
    "    insertmany += str(grandTotal) + \"),\"\n",
    "       \n",
    "insertmany = insertmany[:-1]    "
   ]
  },
  {
   "cell_type": "code",
   "execution_count": 27,
   "metadata": {},
   "outputs": [],
   "source": [
    "# execute insert statement and commit it\n",
    "\n",
    "# Your code goes here (5 points)\n",
    "\n",
    "cur_des = conn.cursor();\n",
    "\n",
    "cur_des.execute(\"Use FruitVegDes\")\n",
    "cur_des.execute(insertmany)\n",
    "\n"
   ]
  },
  {
   "cell_type": "code",
   "execution_count": 28,
   "metadata": {},
   "outputs": [
    {
     "name": "stdout",
     "output_type": "stream",
     "text": [
      "('Fruit', 'Apple', 360.0, 800.0, 630.0, 900.0, 680.0, 600.0, 400.0, 451.0, 810.0, 760.0, 1050.0, 1008.0, 8449.0)\n",
      "('Vegetable', 'Cucumber', 80.0, 82.0, 80.0, 108.0, 132.0, 126.0, 93.5, 88.0, 105.0, 126.0, 96.0, 120.0, 1236.5)\n",
      "('Fruit', 'Pear', 240.0, 500.0, 630.0, 160.0, 140.0, 90.0, 210.0, 252.0, 175.0, 456.0, 450.0, 280.0, 3583.0)\n",
      "('Vegetable', 'Tomato', 150.0, 135.0, 180.0, 153.0, 187.0, 178.5, 180.5, 171.0, 135.0, 162.0, 162.0, 180.0, 1974.0)\n",
      "('Fruit', 'Durian', 0.0, 0.0, 0.0, 0.0, 400.0, 1170.0, 1029.5, 876.0, 560.0, 0.0, 0.0, 0.0, 4035.5)\n"
     ]
    }
   ],
   "source": [
    "# Validate your insertion\n",
    "\n",
    "cur_des.execute(\"SELECT * FROM salesCross\")\n",
    "for t in cur_des:\n",
    "    print(t)\n",
    "    "
   ]
  },
  {
   "cell_type": "markdown",
   "metadata": {},
   "source": [
    "### 4 - Free the connections (5 points)"
   ]
  },
  {
   "cell_type": "code",
   "execution_count": 29,
   "metadata": {},
   "outputs": [],
   "source": [
    "# your code goes here (5 points)\n",
    "\n",
    "conn.close()"
   ]
  }
 ],
 "metadata": {
  "kernelspec": {
   "display_name": "Python 3 (ipykernel)",
   "language": "python",
   "name": "python3"
  },
  "language_info": {
   "codemirror_mode": {
    "name": "ipython",
    "version": 3
   },
   "file_extension": ".py",
   "mimetype": "text/x-python",
   "name": "python",
   "nbconvert_exporter": "python",
   "pygments_lexer": "ipython3",
   "version": "3.9.7"
  }
 },
 "nbformat": 4,
 "nbformat_minor": 4
}
